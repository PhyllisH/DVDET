{
 "cells": [
  {
   "cell_type": "code",
   "execution_count": 2,
   "metadata": {},
   "outputs": [],
   "source": [
    "import matplotlib.pyplot as plt\n",
    "plt.style.use('ggplot')\n",
    "import numpy as np\n",
    "import math"
   ]
  },
  {
   "cell_type": "code",
   "execution_count": 3,
   "metadata": {},
   "outputs": [],
   "source": [
    "import numpy as np\n",
    "\n",
    "def sigmoid(x):\n",
    "    return 1/ (1+np.exp(-x))\n",
    "\n"
   ]
  },
  {
   "cell_type": "code",
   "execution_count": 4,
   "metadata": {},
   "outputs": [
    {
     "name": "stdout",
     "output_type": "stream",
     "text": [
      "[-2.1742358545663825, -4.259242790596123, -5.704182554677541, -6.509650525280265, -6.762789508731951, -6.925919249609808, -7.092880763108826, -7.214280439235398, -7.343164263463374, -7.4524824544238095, -7.554018873643232, -7.600902459542082, -7.829058552679836, -8.069307367424122, -8.364472104398574, -12.716898269296165, -13.815510557964274]\n"
     ]
    },
    {
     "data": {
      "text/plain": [
       "[0.9999999168863314,\n",
       " 0.9996520239401995,\n",
       " 0.8987370391064499,\n",
       " 0.26141980949174326,\n",
       " 0.11393542058168223,\n",
       " 0.06275673313575712,\n",
       " 0.033197391208186246,\n",
       " 0.020691539827582237,\n",
       " 0.012460448332348351,\n",
       " 0.008082571274514082,\n",
       " 0.005399281419160322,\n",
       " 0.004480144187882529,\n",
       " 0.0018034760904195185,\n",
       " 0.0006906203345945653,\n",
       " 0.00021217468965447435,\n",
       " 5.832396846294236e-12,\n",
       " 7.200489933738083e-14]"
      ]
     },
     "execution_count": 4,
     "metadata": {},
     "output_type": "execute_result"
    },
    {
     "data": {
      "image/png": "[encoded data removed]",
      "text/plain": [
       "<Figure size 432x288 with 1 Axes>"
      ]
     },
     "metadata": {},
     "output_type": "display_data"
    }
   ],
   "source": [
    "rates = [0.113694, 0.014132, 0.003331, 0.001488, 0.001155, 0.000981, 0.000830, 0.000735, 0.000646, 0.000579, 0.000523, 0.000499, 0.000397, 0.000312, 0.000232, 0.000002, 0]\n",
    "B = [np.log(x+1e-6) for x in rates]\n",
    "\n",
    "def get_sigma(B, alpha=4.0, beta=25):\n",
    "    sigma = sigmoid((alpha * B + beta))\n",
    "    return sigma\n",
    "\n",
    "sigmas = [get_sigma(x) for x in B]\n",
    "\n",
    "plt.plot(rates, sigmas)\n",
    "print(B)\n",
    "sigmas"
   ]
  },
  {
   "cell_type": "code",
   "execution_count": null,
   "metadata": {},
   "outputs": [],
   "source": []
  }
 ],
 "metadata": {
  "interpreter": {
   "hash": "dafa5f34dfc54f1f6d1e17772764c64a9575a3a323dfbe005601cc9fc07ef87c"
  },
  "kernelspec": {
   "display_name": "Python 3.6.6 64-bit ('AirSim': virtualenv)",
   "language": "python",
   "name": "python3"
  },
  "language_info": {
   "codemirror_mode": {
    "name": "ipython",
    "version": 3
   },
   "file_extension": ".py",
   "mimetype": "text/x-python",
   "name": "python",
   "nbconvert_exporter": "python",
   "pygments_lexer": "ipython3",
   "version": "3.6.6"
  },
  "orig_nbformat": 4
 },
 "nbformat": 4,
 "nbformat_minor": 2
}
